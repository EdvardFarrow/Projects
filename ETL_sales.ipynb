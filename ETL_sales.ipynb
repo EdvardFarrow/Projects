{
  "nbformat": 4,
  "nbformat_minor": 0,
  "metadata": {
    "colab": {
      "provenance": []
    },
    "kernelspec": {
      "name": "python3",
      "display_name": "Python 3"
    },
    "language_info": {
      "name": "python"
    }
  },
  "cells": [
    {
      "cell_type": "markdown",
      "source": [
        "## **1 кейс**\n",
        "\n",
        "**ETL продажи**"
      ],
      "metadata": {
        "id": "XUqCUBW5fUST"
      }
    },
    {
      "cell_type": "markdown",
      "source": [
        "**Важно**\n",
        "\n",
        "Перед началом решения выполните следующую ячейку, чтобы загрузить необходимый для работы файл."
      ],
      "metadata": {
        "id": "OcK9kF9mfZIt"
      }
    },
    {
      "cell_type": "code",
      "execution_count": 1,
      "metadata": {
        "id": "KtNBw8nOfPsB",
        "collapsed": true,
        "colab": {
          "base_uri": "https://localhost:8080/"
        },
        "outputId": "0dea88eb-bee9-4e15-c42f-f9853f960262"
      },
      "outputs": [
        {
          "output_type": "stream",
          "name": "stdout",
          "text": [
            "--2024-08-06 19:39:07--  https://gist.github.com/Vs8th/c1550e322588b735752bf2a7ccd1cdd0/raw/sales_data.csv\n",
            "Resolving gist.github.com (gist.github.com)... 140.82.116.3\n",
            "Connecting to gist.github.com (gist.github.com)|140.82.116.3|:443... connected.\n",
            "HTTP request sent, awaiting response... 301 Moved Permanently\n",
            "Location: https://gist.githubusercontent.com/Vs8th/c1550e322588b735752bf2a7ccd1cdd0/raw/sales_data.csv [following]\n",
            "--2024-08-06 19:39:07--  https://gist.githubusercontent.com/Vs8th/c1550e322588b735752bf2a7ccd1cdd0/raw/sales_data.csv\n",
            "Resolving gist.githubusercontent.com (gist.githubusercontent.com)... 185.199.111.133, 185.199.110.133, 185.199.109.133, ...\n",
            "Connecting to gist.githubusercontent.com (gist.githubusercontent.com)|185.199.111.133|:443... connected.\n",
            "HTTP request sent, awaiting response... 200 OK\n",
            "Length: 31844 (31K) [text/plain]\n",
            "Saving to: ‘sales_data.csv’\n",
            "\n",
            "sales_data.csv      100%[===================>]  31.10K  --.-KB/s    in 0.007s  \n",
            "\n",
            "2024-08-06 19:39:08 (4.36 MB/s) - ‘sales_data.csv’ saved [31844/31844]\n",
            "\n"
          ]
        }
      ],
      "source": [
        "!wget https://gist.github.com/Vs8th/c1550e322588b735752bf2a7ccd1cdd0/raw/sales_data.csv"
      ]
    },
    {
      "cell_type": "markdown",
      "source": [
        "Чтобы посмотреть как он выглядит выполните следующую ячейку."
      ],
      "metadata": {
        "id": "JIwIK2E5fcyA"
      }
    },
    {
      "cell_type": "code",
      "source": [
        "import pandas as pd\n",
        "\n",
        "df = pd.read_csv('sales_data.csv')\n",
        "df[5:105:25]"
      ],
      "metadata": {
        "id": "6f84pObFfbGE",
        "colab": {
          "base_uri": "https://localhost:8080/",
          "height": 175
        },
        "outputId": "9edb48a6-124a-45a8-82fa-2ddf443ce9f7"
      },
      "execution_count": null,
      "outputs": [
        {
          "output_type": "execute_result",
          "data": {
            "text/plain": [
              "    id        date  amount     product\n",
              "5    6  2022-08-04  843.69   Product 3\n",
              "30  31  2022-11-06  131.60   Product 8\n",
              "55  56  2023-06-24  747.08   Product 8\n",
              "80  81  2023-05-09  658.02  Product 10"
            ],
            "text/html": [
              "\n",
              "  <div id=\"df-1a6499fe-add5-483e-90d9-c9b045901598\" class=\"colab-df-container\">\n",
              "    <div>\n",
              "<style scoped>\n",
              "    .dataframe tbody tr th:only-of-type {\n",
              "        vertical-align: middle;\n",
              "    }\n",
              "\n",
              "    .dataframe tbody tr th {\n",
              "        vertical-align: top;\n",
              "    }\n",
              "\n",
              "    .dataframe thead th {\n",
              "        text-align: right;\n",
              "    }\n",
              "</style>\n",
              "<table border=\"1\" class=\"dataframe\">\n",
              "  <thead>\n",
              "    <tr style=\"text-align: right;\">\n",
              "      <th></th>\n",
              "      <th>id</th>\n",
              "      <th>date</th>\n",
              "      <th>amount</th>\n",
              "      <th>product</th>\n",
              "    </tr>\n",
              "  </thead>\n",
              "  <tbody>\n",
              "    <tr>\n",
              "      <th>5</th>\n",
              "      <td>6</td>\n",
              "      <td>2022-08-04</td>\n",
              "      <td>843.69</td>\n",
              "      <td>Product 3</td>\n",
              "    </tr>\n",
              "    <tr>\n",
              "      <th>30</th>\n",
              "      <td>31</td>\n",
              "      <td>2022-11-06</td>\n",
              "      <td>131.60</td>\n",
              "      <td>Product 8</td>\n",
              "    </tr>\n",
              "    <tr>\n",
              "      <th>55</th>\n",
              "      <td>56</td>\n",
              "      <td>2023-06-24</td>\n",
              "      <td>747.08</td>\n",
              "      <td>Product 8</td>\n",
              "    </tr>\n",
              "    <tr>\n",
              "      <th>80</th>\n",
              "      <td>81</td>\n",
              "      <td>2023-05-09</td>\n",
              "      <td>658.02</td>\n",
              "      <td>Product 10</td>\n",
              "    </tr>\n",
              "  </tbody>\n",
              "</table>\n",
              "</div>\n",
              "    <div class=\"colab-df-buttons\">\n",
              "\n",
              "  <div class=\"colab-df-container\">\n",
              "    <button class=\"colab-df-convert\" onclick=\"convertToInteractive('df-1a6499fe-add5-483e-90d9-c9b045901598')\"\n",
              "            title=\"Convert this dataframe to an interactive table.\"\n",
              "            style=\"display:none;\">\n",
              "\n",
              "  <svg xmlns=\"http://www.w3.org/2000/svg\" height=\"24px\" viewBox=\"0 -960 960 960\">\n",
              "    <path d=\"M120-120v-720h720v720H120Zm60-500h600v-160H180v160Zm220 220h160v-160H400v160Zm0 220h160v-160H400v160ZM180-400h160v-160H180v160Zm440 0h160v-160H620v160ZM180-180h160v-160H180v160Zm440 0h160v-160H620v160Z\"/>\n",
              "  </svg>\n",
              "    </button>\n",
              "\n",
              "  <style>\n",
              "    .colab-df-container {\n",
              "      display:flex;\n",
              "      gap: 12px;\n",
              "    }\n",
              "\n",
              "    .colab-df-convert {\n",
              "      background-color: #E8F0FE;\n",
              "      border: none;\n",
              "      border-radius: 50%;\n",
              "      cursor: pointer;\n",
              "      display: none;\n",
              "      fill: #1967D2;\n",
              "      height: 32px;\n",
              "      padding: 0 0 0 0;\n",
              "      width: 32px;\n",
              "    }\n",
              "\n",
              "    .colab-df-convert:hover {\n",
              "      background-color: #E2EBFA;\n",
              "      box-shadow: 0px 1px 2px rgba(60, 64, 67, 0.3), 0px 1px 3px 1px rgba(60, 64, 67, 0.15);\n",
              "      fill: #174EA6;\n",
              "    }\n",
              "\n",
              "    .colab-df-buttons div {\n",
              "      margin-bottom: 4px;\n",
              "    }\n",
              "\n",
              "    [theme=dark] .colab-df-convert {\n",
              "      background-color: #3B4455;\n",
              "      fill: #D2E3FC;\n",
              "    }\n",
              "\n",
              "    [theme=dark] .colab-df-convert:hover {\n",
              "      background-color: #434B5C;\n",
              "      box-shadow: 0px 1px 3px 1px rgba(0, 0, 0, 0.15);\n",
              "      filter: drop-shadow(0px 1px 2px rgba(0, 0, 0, 0.3));\n",
              "      fill: #FFFFFF;\n",
              "    }\n",
              "  </style>\n",
              "\n",
              "    <script>\n",
              "      const buttonEl =\n",
              "        document.querySelector('#df-1a6499fe-add5-483e-90d9-c9b045901598 button.colab-df-convert');\n",
              "      buttonEl.style.display =\n",
              "        google.colab.kernel.accessAllowed ? 'block' : 'none';\n",
              "\n",
              "      async function convertToInteractive(key) {\n",
              "        const element = document.querySelector('#df-1a6499fe-add5-483e-90d9-c9b045901598');\n",
              "        const dataTable =\n",
              "          await google.colab.kernel.invokeFunction('convertToInteractive',\n",
              "                                                    [key], {});\n",
              "        if (!dataTable) return;\n",
              "\n",
              "        const docLinkHtml = 'Like what you see? Visit the ' +\n",
              "          '<a target=\"_blank\" href=https://colab.research.google.com/notebooks/data_table.ipynb>data table notebook</a>'\n",
              "          + ' to learn more about interactive tables.';\n",
              "        element.innerHTML = '';\n",
              "        dataTable['output_type'] = 'display_data';\n",
              "        await google.colab.output.renderOutput(dataTable, element);\n",
              "        const docLink = document.createElement('div');\n",
              "        docLink.innerHTML = docLinkHtml;\n",
              "        element.appendChild(docLink);\n",
              "      }\n",
              "    </script>\n",
              "  </div>\n",
              "\n",
              "\n",
              "<div id=\"df-fb3b7d3e-0a7b-40c3-9d43-0519fbf5379f\">\n",
              "  <button class=\"colab-df-quickchart\" onclick=\"quickchart('df-fb3b7d3e-0a7b-40c3-9d43-0519fbf5379f')\"\n",
              "            title=\"Suggest charts\"\n",
              "            style=\"display:none;\">\n",
              "\n",
              "<svg xmlns=\"http://www.w3.org/2000/svg\" height=\"24px\"viewBox=\"0 0 24 24\"\n",
              "     width=\"24px\">\n",
              "    <g>\n",
              "        <path d=\"M19 3H5c-1.1 0-2 .9-2 2v14c0 1.1.9 2 2 2h14c1.1 0 2-.9 2-2V5c0-1.1-.9-2-2-2zM9 17H7v-7h2v7zm4 0h-2V7h2v10zm4 0h-2v-4h2v4z\"/>\n",
              "    </g>\n",
              "</svg>\n",
              "  </button>\n",
              "\n",
              "<style>\n",
              "  .colab-df-quickchart {\n",
              "      --bg-color: #E8F0FE;\n",
              "      --fill-color: #1967D2;\n",
              "      --hover-bg-color: #E2EBFA;\n",
              "      --hover-fill-color: #174EA6;\n",
              "      --disabled-fill-color: #AAA;\n",
              "      --disabled-bg-color: #DDD;\n",
              "  }\n",
              "\n",
              "  [theme=dark] .colab-df-quickchart {\n",
              "      --bg-color: #3B4455;\n",
              "      --fill-color: #D2E3FC;\n",
              "      --hover-bg-color: #434B5C;\n",
              "      --hover-fill-color: #FFFFFF;\n",
              "      --disabled-bg-color: #3B4455;\n",
              "      --disabled-fill-color: #666;\n",
              "  }\n",
              "\n",
              "  .colab-df-quickchart {\n",
              "    background-color: var(--bg-color);\n",
              "    border: none;\n",
              "    border-radius: 50%;\n",
              "    cursor: pointer;\n",
              "    display: none;\n",
              "    fill: var(--fill-color);\n",
              "    height: 32px;\n",
              "    padding: 0;\n",
              "    width: 32px;\n",
              "  }\n",
              "\n",
              "  .colab-df-quickchart:hover {\n",
              "    background-color: var(--hover-bg-color);\n",
              "    box-shadow: 0 1px 2px rgba(60, 64, 67, 0.3), 0 1px 3px 1px rgba(60, 64, 67, 0.15);\n",
              "    fill: var(--button-hover-fill-color);\n",
              "  }\n",
              "\n",
              "  .colab-df-quickchart-complete:disabled,\n",
              "  .colab-df-quickchart-complete:disabled:hover {\n",
              "    background-color: var(--disabled-bg-color);\n",
              "    fill: var(--disabled-fill-color);\n",
              "    box-shadow: none;\n",
              "  }\n",
              "\n",
              "  .colab-df-spinner {\n",
              "    border: 2px solid var(--fill-color);\n",
              "    border-color: transparent;\n",
              "    border-bottom-color: var(--fill-color);\n",
              "    animation:\n",
              "      spin 1s steps(1) infinite;\n",
              "  }\n",
              "\n",
              "  @keyframes spin {\n",
              "    0% {\n",
              "      border-color: transparent;\n",
              "      border-bottom-color: var(--fill-color);\n",
              "      border-left-color: var(--fill-color);\n",
              "    }\n",
              "    20% {\n",
              "      border-color: transparent;\n",
              "      border-left-color: var(--fill-color);\n",
              "      border-top-color: var(--fill-color);\n",
              "    }\n",
              "    30% {\n",
              "      border-color: transparent;\n",
              "      border-left-color: var(--fill-color);\n",
              "      border-top-color: var(--fill-color);\n",
              "      border-right-color: var(--fill-color);\n",
              "    }\n",
              "    40% {\n",
              "      border-color: transparent;\n",
              "      border-right-color: var(--fill-color);\n",
              "      border-top-color: var(--fill-color);\n",
              "    }\n",
              "    60% {\n",
              "      border-color: transparent;\n",
              "      border-right-color: var(--fill-color);\n",
              "    }\n",
              "    80% {\n",
              "      border-color: transparent;\n",
              "      border-right-color: var(--fill-color);\n",
              "      border-bottom-color: var(--fill-color);\n",
              "    }\n",
              "    90% {\n",
              "      border-color: transparent;\n",
              "      border-bottom-color: var(--fill-color);\n",
              "    }\n",
              "  }\n",
              "</style>\n",
              "\n",
              "  <script>\n",
              "    async function quickchart(key) {\n",
              "      const quickchartButtonEl =\n",
              "        document.querySelector('#' + key + ' button');\n",
              "      quickchartButtonEl.disabled = true;  // To prevent multiple clicks.\n",
              "      quickchartButtonEl.classList.add('colab-df-spinner');\n",
              "      try {\n",
              "        const charts = await google.colab.kernel.invokeFunction(\n",
              "            'suggestCharts', [key], {});\n",
              "      } catch (error) {\n",
              "        console.error('Error during call to suggestCharts:', error);\n",
              "      }\n",
              "      quickchartButtonEl.classList.remove('colab-df-spinner');\n",
              "      quickchartButtonEl.classList.add('colab-df-quickchart-complete');\n",
              "    }\n",
              "    (() => {\n",
              "      let quickchartButtonEl =\n",
              "        document.querySelector('#df-fb3b7d3e-0a7b-40c3-9d43-0519fbf5379f button');\n",
              "      quickchartButtonEl.style.display =\n",
              "        google.colab.kernel.accessAllowed ? 'block' : 'none';\n",
              "    })();\n",
              "  </script>\n",
              "</div>\n",
              "\n",
              "    </div>\n",
              "  </div>\n"
            ],
            "application/vnd.google.colaboratory.intrinsic+json": {
              "type": "dataframe",
              "repr_error": "0"
            }
          },
          "metadata": {},
          "execution_count": 2
        }
      ]
    },
    {
      "cell_type": "markdown",
      "source": [
        "### **Решения**"
      ],
      "metadata": {
        "id": "CxmnD3GvffQ4"
      }
    },
    {
      "cell_type": "markdown",
      "source": [
        "#### **Задача 1**\n",
        "\n",
        "Ваша задача написать класс `Extraction`, и определить в нем метод `from_csv`, который принимал бы путь к файлу и вытаскивал данные в виде списка объектов.\n",
        "\n",
        "Для этого, здесь же, определите класс `Sale`."
      ],
      "metadata": {
        "id": "5bdLXu2ksLB7"
      }
    },
    {
      "cell_type": "markdown",
      "source": [
        "**Решение**\n",
        "\n",
        "Напишите свое решение ниже"
      ],
      "metadata": {
        "id": "qUL4LtIUnJge"
      }
    },
    {
      "cell_type": "code",
      "source": [
        "import csv\n",
        "\n",
        "class Extraction:\n",
        "  @staticmethod\n",
        "  def from_csv(file_path):\n",
        "    sales = []\n",
        "    try:\n",
        "      with open(file_path, 'r', newline='', encoding='utf-8') as csv_file:\n",
        "        reader = csv.DictReader(csv_file)\n",
        "        for row in reader:\n",
        "          id = row['id']\n",
        "          date = row['date']\n",
        "          amount = float(row['amount'])\n",
        "          product = row['product']\n",
        "          sale = Sale(id, date, amount, product)\n",
        "          sales.append(sale)\n",
        "    except Exception as e:\n",
        "            print(f\"An error occurred: {e}\")\n",
        "    return sales\n",
        "\n",
        "class Sale:\n",
        "  def __init__(self, id, date, amount, product):\n",
        "    self._id = id\n",
        "    self._date = date\n",
        "    self._amount = amount\n",
        "    self._product = product\n",
        "\n",
        "  @property\n",
        "  def get_id(self):\n",
        "      return self._id\n",
        "\n",
        "  @property\n",
        "  def get_date(self):\n",
        "      return self._date\n",
        "\n",
        "  @property\n",
        "  def get_amount(self):\n",
        "      return self._amount\n",
        "\n",
        "  @property\n",
        "  def get_product(self):\n",
        "      return self._product\n",
        "#\n",
        "\n",
        "  \"\"\"@id.setter\n",
        "  def id(self, new_id):\n",
        "      self._id = new_id\n",
        "\n",
        "  @date.setter\n",
        "  def date(self, new_date):\n",
        "      self._date = new_date\n",
        "\n",
        "  @amount.setter\n",
        "  def amount(self, new_amount):\n",
        "      self._amount = new_amount\n",
        "\n",
        "  @product.setter\n",
        "  def product(self, new_product):\n",
        "      self._product = new_product  \"\"\"\n"
      ],
      "metadata": {
        "id": "Ia39hhmZbNRW"
      },
      "execution_count": null,
      "outputs": []
    },
    {
      "cell_type": "markdown",
      "source": [
        "✏️ ✏️ ✏️\n",
        "\n",
        "**Проверка**\n",
        "\n",
        "Чтобы проверить свое решение, запустите код в следующих ячейках"
      ],
      "metadata": {
        "id": "54Tvpn9OkDwV"
      }
    },
    {
      "cell_type": "code",
      "source": [
        "#@title ✏️ Проверка: чтобы проверить свое решение запустите код в этой ячейке\n",
        "a = Extraction.from_csv('sales_data.csv')\n",
        "res = []\n",
        "for i in a[5:105:25]:\n",
        "  id = i.get_id\n",
        "  date = i.get_date\n",
        "  amount = i.get_amount\n",
        "  product = i.get_product\n",
        "  res.append((id, date, amount, product))\n",
        "\n",
        "try:\n",
        "    assert res == [('6', '2022-08-04', 843.69, 'Product 3'),\n",
        "                   ('31', '2022-11-06', 131.60, 'Product 8'),\n",
        "                   ('56', '2023-06-24', 747.08, 'Product 8'),\n",
        "                   ('81', '2023-05-09', 658.02, 'Product 10')]\n",
        "except AssertionError:\n",
        "    print('Ответы не совпадают')\n",
        "else:\n",
        "    print('Поздравляем, Вы справились!')\n",
        "\n"
      ],
      "metadata": {
        "id": "LkqzVw9skKEC",
        "colab": {
          "base_uri": "https://localhost:8080/"
        },
        "outputId": "9494e559-f8a4-44b5-f26a-6d198799c754"
      },
      "execution_count": null,
      "outputs": [
        {
          "output_type": "stream",
          "name": "stdout",
          "text": [
            "Поздравляем, Вы справились!\n"
          ]
        }
      ]
    },
    {
      "cell_type": "markdown",
      "source": [
        "#### **Задача 2**\n",
        "\n",
        "Напишите класс `Transformation`, который содержит два метода: `filter_by_date(sales_data, start_date, end_date)` и `filter_by_amount(sales_data, min_amount, max_amount)`."
      ],
      "metadata": {
        "id": "QLNMvvhXoIdV"
      }
    },
    {
      "cell_type": "markdown",
      "source": [
        "**Решение**\n",
        "\n",
        "Напишите свое решение ниже"
      ],
      "metadata": {
        "id": "LThhpSINoMHN"
      }
    },
    {
      "cell_type": "code",
      "source": [
        "from datetime import datetime\n",
        "\n",
        "class Transformation:\n",
        "  @staticmethod\n",
        "\n",
        "  def filter_by_date(sales_data, start_date, end_date):\n",
        "    filtered_sales = []\n",
        "    start = datetime.strptime(start_date, '%Y-%m-%d')\n",
        "    end = datetime.strptime(end_date, '%Y-%m-%d')\n",
        "    for sale in sales_data:\n",
        "        sale_date = datetime.strptime(sale.get_date, '%Y-%m-%d')  # Преобразуем строку в объект datetime\n",
        "        if start <= sale_date <= end:\n",
        "            filtered_sales.append(sale)\n",
        "    return filtered_sales\n",
        "\n",
        "  @staticmethod\n",
        "  def filter_by_amount(sales_data, min_amount, max_amount):\n",
        "    filtered_sales = []\n",
        "    for sale in sales_data:\n",
        "      if min_amount <= sale.get_amount <= max_amount:\n",
        "        filtered_sales.append(sale)\n",
        "    return filtered_sales"
      ],
      "metadata": {
        "id": "9s8JBMlboJuf"
      },
      "execution_count": null,
      "outputs": []
    },
    {
      "cell_type": "markdown",
      "source": [
        "✏️ ✏️ ✏️\n",
        "\n",
        "**Проверка**\n",
        "\n",
        "Чтобы проверить свое решение, запустите код в следующих ячейках"
      ],
      "metadata": {
        "id": "GN_PNZICsxRD"
      }
    },
    {
      "cell_type": "code",
      "source": [
        "#@title ✏️ Проверка: чтобы проверить свое решение запустите код в этой ячейке\n",
        "sales_data = Extraction.from_csv('sales_data.csv')\n",
        "filtered_sales1 = Transformation.filter_by_date(sales_data, '2023-01-01', '2023-06-30')\n",
        "res2 = []\n",
        "for i in filtered_sales1[5:105:36]:\n",
        "  id = i.get_id\n",
        "  date = i.get_date\n",
        "  amount = i.get_amount\n",
        "  product = i.get_product\n",
        "  res2.append((id, date, amount, product))\n",
        "\n",
        "try:\n",
        "    assert res2 == [('10', '2023-02-04', 530.21, 'Product 1'),\n",
        "                    ('97', '2023-03-16', 518.75, 'Product 8'),\n",
        "                    ('163', '2023-06-12', 706.27, 'Product 9')]\n",
        "except AssertionError:\n",
        "    print('Ответы не совпадают')\n",
        "else:\n",
        "    print('Поздравляем, Вы справились!')"
      ],
      "metadata": {
        "colab": {
          "base_uri": "https://localhost:8080/"
        },
        "id": "a36bM9j9tD7l",
        "outputId": "5a5cefbe-aab0-40b2-fcf5-cd4a8a2abe09"
      },
      "execution_count": null,
      "outputs": [
        {
          "output_type": "stream",
          "name": "stdout",
          "text": [
            "Поздравляем, Вы справились!\n"
          ]
        }
      ]
    },
    {
      "cell_type": "code",
      "source": [
        "#@title ✏️ Проверка: чтобы проверить свое решение запустите код в этой ячейке\n",
        "sales_data = Extraction.from_csv('sales_data.csv')\n",
        "filtered_sales2 = Transformation.filter_by_amount(filtered_sales1, 100, 1000)\n",
        "res3 = []\n",
        "for i in filtered_sales2[5:105:36]:\n",
        "  id = i.get_id\n",
        "  date = i.get_date\n",
        "  amount = i.get_amount\n",
        "  product = i.get_product\n",
        "  res3.append((id, date, amount, product))\n",
        "\n",
        "try:\n",
        "    assert res3 == [('11', '2023-01-04', 974.04, 'Product 10'),\n",
        "                    ('104', '2023-06-19', 680.99, 'Product 9'),\n",
        "                    ('178', '2023-01-28', 417.43, 'Product 7')]\n",
        "except AssertionError:\n",
        "    print('Ответы не совпадают')\n",
        "else:\n",
        "    print('Поздравляем, Вы справились!')"
      ],
      "metadata": {
        "colab": {
          "base_uri": "https://localhost:8080/"
        },
        "id": "khbNXvlDyYAT",
        "outputId": "37fab39e-a767-4273-f1dc-8046512cd1dc"
      },
      "execution_count": null,
      "outputs": [
        {
          "output_type": "stream",
          "name": "stdout",
          "text": [
            "Поздравляем, Вы справились!\n"
          ]
        }
      ]
    },
    {
      "cell_type": "markdown",
      "source": [
        "#### **Задача 3**\n",
        "\n",
        "Напишите класс `Analysis`, содержащий два метода: `calculate_total_sales` и `calculate_average_sales`. Возвращаемые значения округлите до двух знаков после запятой."
      ],
      "metadata": {
        "id": "AwB-HtPLtjyl"
      }
    },
    {
      "cell_type": "markdown",
      "source": [
        "**Решение**\n",
        "\n",
        "Напишите свое решение ниже"
      ],
      "metadata": {
        "id": "GOTB--hmt2xw"
      }
    },
    {
      "cell_type": "code",
      "source": [
        "class Analysis:\n",
        "\n",
        "  def calculate_total_sales(sales_data):\n",
        "    total_sales = 0\n",
        "    for sale in sales_data:\n",
        "      total_sales += sale.get_amount\n",
        "    return round(total_sales, 2)\n",
        "\n",
        "\n",
        "\n",
        "  def calculate_average_sales(sales_data):\n",
        "    total_sales = 0\n",
        "    for sale in sales_data:\n",
        "      total_sales += sale.get_amount\n",
        "    average_sales = total_sales / len(sales_data)\n",
        "    return round(average_sales, 2)"
      ],
      "metadata": {
        "id": "fz7nRb_ntKMv"
      },
      "execution_count": null,
      "outputs": []
    },
    {
      "cell_type": "markdown",
      "source": [
        "✏️ ✏️ ✏️\n",
        "\n",
        "**Проверка**\n",
        "\n",
        "Чтобы проверить свое решение, запустите код в следующих ячейках"
      ],
      "metadata": {
        "id": "0-7TiI06t8D0"
      }
    },
    {
      "cell_type": "code",
      "source": [
        "#@title ✏️ Проверка: чтобы проверить свое решение запустите код в этой ячейке\n",
        "res4 = round(Analysis.calculate_total_sales(sales_data), 2)\n",
        "\n",
        "try:\n",
        "    assert res4 == 522581.97\n",
        "except AssertionError:\n",
        "    print('Ответы не совпадают')\n",
        "else:\n",
        "    print('Поздравляем, Вы справились!')"
      ],
      "metadata": {
        "colab": {
          "base_uri": "https://localhost:8080/"
        },
        "id": "KzV-hUKcvxb2",
        "outputId": "4a490dc2-a406-4b5f-a577-6bf09ccb2f0a"
      },
      "execution_count": null,
      "outputs": [
        {
          "output_type": "stream",
          "name": "stdout",
          "text": [
            "Поздравляем, Вы справились!\n"
          ]
        }
      ]
    },
    {
      "cell_type": "code",
      "source": [
        "#@title ✏️ Проверка: чтобы проверить свое решение запустите код в этой ячейке\n",
        "res5 = round(Analysis.calculate_average_sales(sales_data), 2)\n",
        "\n",
        "try:\n",
        "    assert res5 == 522.58\n",
        "except AssertionError:\n",
        "    print('Ответы не совпадают')\n",
        "else:\n",
        "    print('Поздравляем, Вы справились!')"
      ],
      "metadata": {
        "colab": {
          "base_uri": "https://localhost:8080/"
        },
        "id": "2Pk17zzBzsDn",
        "outputId": "6f6efa41-c07c-4844-ee21-c0ab48a99533"
      },
      "execution_count": null,
      "outputs": [
        {
          "output_type": "stream",
          "name": "stdout",
          "text": [
            "Поздравляем, Вы справились!\n"
          ]
        }
      ]
    },
    {
      "cell_type": "markdown",
      "source": [
        "#### **Задача 4**\n",
        "\n",
        "Напишите класс `Loading` с методом `to_csv(sales_data, file_path)`, который запишет данные в `csv` файл."
      ],
      "metadata": {
        "id": "CgRs9f--z9N-"
      }
    },
    {
      "cell_type": "markdown",
      "source": [
        "**Решение**\n",
        "\n",
        "Напишите свое решение ниже"
      ],
      "metadata": {
        "id": "HAC66WJB0DtG"
      }
    },
    {
      "cell_type": "code",
      "source": [
        "class Loading:\n",
        "\n",
        "  @staticmethod\n",
        "  def to_csv(sales_data, file_path):\n",
        "    with open(file_path, 'w', newline='', encoding='utf-8') as csv_file:\n",
        "      writer = csv.writer(csv_file)\n",
        "\n",
        "      if sales_data:\n",
        "        headers = ['id', 'date', 'amount', 'product']\n",
        "        writer.writerow(headers)\n",
        "\n",
        "        for sale in sales_data:\n",
        "          writer.writerow([sale.get_id, sale.get_date, sale.get_amount, sale.get_product])\n"
      ],
      "metadata": {
        "id": "63tUPEeLz5e1"
      },
      "execution_count": null,
      "outputs": []
    },
    {
      "cell_type": "code",
      "source": [],
      "metadata": {
        "id": "3VxvcPw5Bs5W"
      },
      "execution_count": null,
      "outputs": []
    },
    {
      "cell_type": "markdown",
      "source": [
        "✏️ ✏️ ✏️\n",
        "\n",
        "**Проверка**\n",
        "\n",
        "Чтобы проверить свое решение, запустите код в следующих ячейках"
      ],
      "metadata": {
        "id": "wAeUY7ey0JGJ"
      }
    },
    {
      "cell_type": "code",
      "source": [
        "Loading.to_csv(filtered_sales2, 'filtered_sales.csv')"
      ],
      "metadata": {
        "id": "BbYGpfJ40HC9"
      },
      "execution_count": null,
      "outputs": []
    },
    {
      "cell_type": "code",
      "source": [
        "# Здесь будет скачиваться файл с эталонным ответом\n",
        "\n",
        "!wget https://gist.github.com/Vs8th/533f827cc337efe288a5064604fe4e56/raw/filtered_sales_cor.csv\n",
        "\n",
        "import pandas as pd\n",
        "\n",
        "user_answer = pd.read_csv('filtered_sales.csv')\n",
        "correct_answer = pd.read_csv('filtered_sales_cor.csv')\n",
        "\n"
      ],
      "metadata": {
        "id": "nArXJ0ax1F09",
        "colab": {
          "base_uri": "https://localhost:8080/"
        },
        "outputId": "23bfb0bd-518c-46ae-8d53-b187782e3371"
      },
      "execution_count": null,
      "outputs": [
        {
          "output_type": "stream",
          "name": "stdout",
          "text": [
            "--2024-08-05 13:45:01--  https://gist.github.com/Vs8th/533f827cc337efe288a5064604fe4e56/raw/filtered_sales_cor.csv\n",
            "Resolving gist.github.com (gist.github.com)... 140.82.113.4\n",
            "Connecting to gist.github.com (gist.github.com)|140.82.113.4|:443... connected.\n",
            "HTTP request sent, awaiting response... 301 Moved Permanently\n",
            "Location: https://gist.githubusercontent.com/Vs8th/533f827cc337efe288a5064604fe4e56/raw/filtered_sales_cor.csv [following]\n",
            "--2024-08-05 13:45:01--  https://gist.githubusercontent.com/Vs8th/533f827cc337efe288a5064604fe4e56/raw/filtered_sales_cor.csv\n",
            "Resolving gist.githubusercontent.com (gist.githubusercontent.com)... 185.199.108.133, 185.199.109.133, 185.199.110.133, ...\n",
            "Connecting to gist.githubusercontent.com (gist.githubusercontent.com)|185.199.108.133|:443... connected.\n",
            "HTTP request sent, awaiting response... 200 OK\n",
            "Length: 14847 (14K) [text/plain]\n",
            "Saving to: ‘filtered_sales_cor.csv’\n",
            "\n",
            "filtered_sales_cor. 100%[===================>]  14.50K  --.-KB/s    in 0s      \n",
            "\n",
            "2024-08-05 13:45:01 (79.1 MB/s) - ‘filtered_sales_cor.csv’ saved [14847/14847]\n",
            "\n"
          ]
        }
      ]
    },
    {
      "cell_type": "code",
      "source": [
        "#@title ✏️ Проверка: чтобы проверить свое решение запустите код в этой ячейке\n",
        "try:\n",
        "  assert (user_answer == correct_answer).all().all(), 'Ответы не совпадают'\n",
        "  assert user_answer.columns.equals(correct_answer.columns), 'Названия столбцов не совпадают'\n",
        "except Exception as err:\n",
        "  raise AssertionError(f'При проверке возникла ошибка {repr(err)}')\n",
        "else:\n",
        "  print('Поздравляем, Вы справились и успешно прошли все проверки!')"
      ],
      "metadata": {
        "colab": {
          "base_uri": "https://localhost:8080/"
        },
        "id": "e2nVbdAn1IjH",
        "outputId": "b8dfac70-076d-4933-87c7-18cb4faf8b0a",
        "cellView": "form"
      },
      "execution_count": null,
      "outputs": [
        {
          "output_type": "stream",
          "name": "stdout",
          "text": [
            "Поздравляем, Вы справились и успешно прошли все проверки!\n"
          ]
        }
      ]
    }
  ]
}